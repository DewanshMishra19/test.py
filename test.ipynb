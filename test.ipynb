{
 "cells": [
  {
   "cell_type": "code",
   "execution_count": null,
   "metadata": {},
   "outputs": [],
   "source": [
    "# Ques1:\n",
    "\n",
    "char=input(\"Enter a character\")\n",
    "if(char=='a'):\n",
    "    print(\"it is vowel\")\n",
    "elif(char=='e'):\n",
    "    print(\"it is vowel\")\n",
    "elif(char=='i'):\n",
    "    print(\"it is vowel\")\n",
    "elif(char=='o'):\n",
    "    print(\"it is vowel\")\n",
    "elif(char=='u'):\n",
    "    print(\"it is vowel\")\n",
    "else:\n",
    "    print(\"Character is not vowel\")"
   ]
  },
  {
   "cell_type": "code",
   "execution_count": null,
   "metadata": {},
   "outputs": [],
   "source": [
    "# Ques2\n",
    "\n",
    "num= 20\n",
    "a=0\n",
    "b=1\n",
    "i=2\n",
    "print(a)\n",
    "print(b)\n",
    "while(i<=num):\n",
    "    na= a+b\n",
    "    print(na)\n",
    "    a=b\n",
    "    b=na\n",
    "    i+=1"
   ]
  },
  {
   "cell_type": "code",
   "execution_count": 10,
   "metadata": {},
   "outputs": [
    {
     "name": "stdout",
     "output_type": "stream",
     "text": [
      "Triangle is scalene\n"
     ]
    }
   ],
   "source": [
    "# Ques3\n",
    "\n",
    "\n",
    "a=int(input(\"Enter a first side of a triangle\"))\n",
    "b=int(input(\"Enter a second side of a triangle\"))\n",
    "c=int(input(\"Enter a third side of a triangle\"))\n",
    "if(a==b and a==c):\n",
    "    print(\"triangle is Equilateral\")\n",
    "elif (a==b or b==c):\n",
    "    print(\"Triangle is Isoceleces\")\n",
    "else:\n",
    "    print(\"Triangle is scalene\")"
   ]
  },
  {
   "cell_type": "code",
   "execution_count": 20,
   "metadata": {},
   "outputs": [
    {
     "name": "stdout",
     "output_type": "stream",
     "text": [
      "It is not an Armstrong number\n"
     ]
    }
   ],
   "source": [
    "# Ques4\n",
    "\n",
    "num=int(input(\"Enter a number\"))\n",
    "sum=0\n",
    "r=0\n",
    "while(num!=0):\n",
    "    r=num%10\n",
    "    sum=sum+r**3\n",
    "    num=num//10\n",
    "if(sum==num):\n",
    "   print(\"It is an armstrong number\")\n",
    "else:\n",
    "    print(\"It is not an Armstrong number\")\n",
    "\n",
    "\n",
    "    "
   ]
  },
  {
   "cell_type": "code",
   "execution_count": 13,
   "metadata": {},
   "outputs": [
    {
     "name": "stdout",
     "output_type": "stream",
     "text": [
      "16 * 1 = 16\n",
      "16 * 2 = 32\n",
      "16 * 3 = 48\n",
      "16 * 4 = 64\n",
      "16 * 5 = 80\n",
      "16 * 6 = 96\n",
      "16 * 7 = 112\n",
      "16 * 8 = 128\n",
      "16 * 9 = 144\n",
      "16 * 10 = 160\n"
     ]
    }
   ],
   "source": [
    "# Ques5\n",
    "\n",
    "n=10\n",
    "for i in range(1,n+1):\n",
    "    print(16,\"*\",i,\"=\",16*i)"
   ]
  },
  {
   "cell_type": "code",
   "execution_count": 1,
   "metadata": {},
   "outputs": [
    {
     "name": "stdout",
     "output_type": "stream",
     "text": [
      "729\n"
     ]
    }
   ],
   "source": [
    "# Ques6\n",
    "\n",
    "a=9\n",
    "cube=a**3\n",
    "print(cube)\n",
    "\n"
   ]
  },
  {
   "cell_type": "code",
   "execution_count": 18,
   "metadata": {},
   "outputs": [
    {
     "name": "stdout",
     "output_type": "stream",
     "text": [
      "Area of reactangle is  8\n",
      "Area of circle is  154.0\n"
     ]
    }
   ],
   "source": [
    "# Ques7\n",
    "\n",
    "a=int(input(\"Enter a side1\"))\n",
    "b=int(input(\"Enter a side2\"))\n",
    "r=int(input(\"Enter a side\"))\n",
    "rect=a*b\n",
    "circ=(22/7)*r*r\n",
    "print(\"Area of reactangle is \",rect)\n",
    "print(\"Area of circle is \",circ)"
   ]
  },
  {
   "cell_type": "code",
   "execution_count": 19,
   "metadata": {},
   "outputs": [
    {
     "ename": "TypeError",
     "evalue": "not all arguments converted during string formatting",
     "output_type": "error",
     "traceback": [
      "\u001b[1;31m---------------------------------------------------------------------------\u001b[0m",
      "\u001b[1;31mTypeError\u001b[0m                                 Traceback (most recent call last)",
      "Cell \u001b[1;32mIn[19], line 7\u001b[0m\n\u001b[0;32m      5\u001b[0m r\u001b[38;5;241m=\u001b[39m\u001b[38;5;241m0\u001b[39m\n\u001b[0;32m      6\u001b[0m \u001b[38;5;28;01mwhile\u001b[39;00m(ch\u001b[38;5;241m!=\u001b[39m\u001b[38;5;241m0\u001b[39m):\n\u001b[1;32m----> 7\u001b[0m     r\u001b[38;5;241m=\u001b[39m\u001b[43mch\u001b[49m\u001b[38;5;241;43m%\u001b[39;49m\u001b[38;5;241;43m10\u001b[39;49m\n\u001b[0;32m      8\u001b[0m     count\u001b[38;5;241m=\u001b[39mcount\u001b[38;5;241m+\u001b[39m\u001b[38;5;241m1\u001b[39m\n\u001b[0;32m      9\u001b[0m     ch\u001b[38;5;241m=\u001b[39mch\u001b[38;5;241m/\u001b[39m\u001b[38;5;241m/\u001b[39m\u001b[38;5;241m10\u001b[39m\n",
      "\u001b[1;31mTypeError\u001b[0m: not all arguments converted during string formatting"
     ]
    }
   ],
   "source": [
    "# Ques8\n",
    "\n",
    "ch=input(\"Enter a characters\")\n",
    "count=0\n",
    "r=0\n",
    "while(ch!=0):\n",
    "    r=ch%10\n",
    "    count=count+1\n",
    "    ch=ch//10\n",
    "print(\"Character in a string\")\n",
    "    "
   ]
  }
 ],
 "metadata": {
  "kernelspec": {
   "display_name": "Python 3",
   "language": "python",
   "name": "python3"
  },
  "language_info": {
   "codemirror_mode": {
    "name": "ipython",
    "version": 3
   },
   "file_extension": ".py",
   "mimetype": "text/x-python",
   "name": "python",
   "nbconvert_exporter": "python",
   "pygments_lexer": "ipython3",
   "version": "undefined.undefined.undefined"
  }
 },
 "nbformat": 4,
 "nbformat_minor": 2
}
